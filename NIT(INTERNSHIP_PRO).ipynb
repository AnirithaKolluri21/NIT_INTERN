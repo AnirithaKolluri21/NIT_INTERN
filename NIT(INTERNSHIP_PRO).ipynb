{
  "nbformat": 4,
  "nbformat_minor": 0,
  "metadata": {
    "colab": {
      "provenance": []
    },
    "kernelspec": {
      "name": "python3",
      "display_name": "Python 3"
    },
    "language_info": {
      "name": "python"
    }
  },
  "cells": [
    {
      "cell_type": "markdown",
      "source": [
        "# **\"HOP Total Roman Domination Using the Differential Evolution Algorithm\"**"
      ],
      "metadata": {
        "id": "Y9SmXF8sHakq"
      }
    },
    {
      "cell_type": "markdown",
      "source": [
        "# Importing Required **Libraries**"
      ],
      "metadata": {
        "id": "CwezYqOYDc9C"
      }
    },
    {
      "cell_type": "code",
      "execution_count": 2,
      "metadata": {
        "id": "HvJXOxc9CtCf"
      },
      "outputs": [],
      "source": [
        "import random\n",
        "import networkx as nx\n",
        "import matplotlib.pyplot as plt\n"
      ]
    },
    {
      "cell_type": "markdown",
      "source": [
        "# **Function to Get Two-Hop Neighbors**"
      ],
      "metadata": {
        "id": "RI5ycgQSDQE7"
      }
    },
    {
      "cell_type": "code",
      "source": [
        "# Define function to get two-hop neighbors\n",
        "def two_hop_neighbors(graph, vertex):\n",
        "    \"\"\" Returns a set of vertices within two hops of the given vertex. \"\"\"\n",
        "    neighbors = set(graph.get(vertex, []))\n",
        "    for neighbor in graph.get(vertex, []):\n",
        "        neighbors.update(graph.get(neighbor, []))\n",
        "    neighbors.discard(vertex)\n",
        "    return neighbors"
      ],
      "metadata": {
        "id": "hxgQiV14DtYc"
      },
      "execution_count": 12,
      "outputs": []
    },
    {
      "cell_type": "markdown",
      "source": [
        "# Function to Validate **HTRDF**"
      ],
      "metadata": {
        "id": "Q7OAV5chEUEy"
      }
    },
    {
      "cell_type": "code",
      "source": [
        "# Define function to check validity of the hop total Roman dominating function\n",
        "def is_valid_htrdf(graph, labels):\n",
        "    \"\"\" Checks if the given labels form a valid hop total Roman dominating function. \"\"\"\n",
        "    for vertex, label in labels.items():\n",
        "        if label == 0:\n",
        "            if not any(labels.get(neighbor) == 2 for neighbor in two_hop_neighbors(graph, vertex)):\n",
        "                return False\n",
        "        if label == 1:\n",
        "            if not any(labels.get(neighbor) == 2 for neighbor in graph.get(vertex, [])):\n",
        "                return False\n",
        "    return True"
      ],
      "metadata": {
        "id": "D-BI6etrEN2g"
      },
      "execution_count": 13,
      "outputs": []
    },
    {
      "cell_type": "markdown",
      "source": [
        "# **Function to Compute Label Weight**"
      ],
      "metadata": {
        "id": "7Md0hfvbEeBq"
      }
    },
    {
      "cell_type": "code",
      "source": [
        "# Define function to calculate the weight of the labeling\n",
        "def weight(labels):\n",
        "    \"\"\" Returns the weight of the labeling. \"\"\"\n",
        "    return sum(labels.values())"
      ],
      "metadata": {
        "id": "bEBc2cBWEb7L"
      },
      "execution_count": 14,
      "outputs": []
    },
    {
      "cell_type": "markdown",
      "source": [
        "# **Function to Generate a Random Labeling**"
      ],
      "metadata": {
        "id": "GsDiLd6KEnfJ"
      }
    },
    {
      "cell_type": "code",
      "source": [
        "# Define function to generate random solutions\n",
        "def generate_random_solution(vertices):\n",
        "    \"\"\" Generates a random labeling for the vertices. \"\"\"\n",
        "    return {vertex: random.choice([0, 1, 2]) for vertex in vertices}"
      ],
      "metadata": {
        "id": "0ecRrgBqEoSe"
      },
      "execution_count": 15,
      "outputs": []
    },
    {
      "cell_type": "markdown",
      "source": [
        "# **Heuristic Approach to Generate a Valid HTRDF**"
      ],
      "metadata": {
        "id": "_T5hU2kuEc2C"
      }
    },
    {
      "cell_type": "code",
      "source": [
        "# Define heuristic approach for the hop total Roman dominating function\n",
        "def heuristic_htrdf(graph):\n",
        "    \"\"\" Generates a heuristic solution for the hop total Roman dominating function. \"\"\"\n",
        "    vertices = list(graph.keys())\n",
        "    labels = {vertex: 0 for vertex in vertices}\n",
        "\n",
        "    # Ensure heuristic conditions\n",
        "    for vertex in vertices:\n",
        "        if labels[vertex] == 0 and not any(labels.get(neighbor) == 2 for neighbor in two_hop_neighbors(graph, vertex)):\n",
        "            labels[vertex] = 2\n",
        "\n",
        "    for vertex in vertices:\n",
        "        if labels[vertex] == 1 and not any(labels.get(neighbor) == 2 for neighbor in graph.get(vertex, [])):\n",
        "            labels[vertex] = 2\n",
        "\n",
        "    return labels"
      ],
      "metadata": {
        "id": "nLdUiV2EE3j5"
      },
      "execution_count": 16,
      "outputs": []
    },
    {
      "cell_type": "markdown",
      "source": [
        "# **Differential Evolution (DE) Algorithm**"
      ],
      "metadata": {
        "id": "Whvs0Xm4E9Nk"
      }
    },
    {
      "cell_type": "code",
      "source": [
        "# Define Differential Evolution algorithm\n",
        "def de_algorithm(graph, num_individuals=50, max_generations=100, mutation_factor=0.8, crossover_prob=0.9):\n",
        "    vertices = list(graph.keys())\n",
        "    population = [generate_random_solution(vertices) for _ in range(num_individuals)]\n",
        "    fitness = [weight(sol) if is_valid_htrdf(graph, sol) else float('inf') for sol in population]\n",
        "\n",
        "    for generation in range(max_generations):\n",
        "        new_population = []\n",
        "\n",
        "        for i in range(num_individuals):\n",
        "            # Select three random individuals\n",
        "            candidates = list(range(num_individuals))\n",
        "            candidates.remove(i)\n",
        "            a, b, c = random.sample(candidates, 3)\n",
        "\n",
        "            # Mutation\n",
        "            mutant = {}\n",
        "            for vertex in vertices:\n",
        "                if random.random() < mutation_factor:\n",
        "                    mutant[vertex] = population[a][vertex]\n",
        "                else:\n",
        "                    mutant[vertex] = population[i][vertex]\n",
        "\n",
        "            # Crossover\n",
        "            trial = {}\n",
        "            for vertex in vertices:\n",
        "                if random.random() < crossover_prob:\n",
        "                    trial[vertex] = mutant[vertex]\n",
        "                else:\n",
        "                    trial[vertex] = population[i][vertex]\n",
        "\n",
        "            # Ensure the trial solution is valid\n",
        "            if not is_valid_htrdf(graph, trial):\n",
        "                trial = generate_random_solution(vertices)\n",
        "\n",
        "            # Selection\n",
        "            trial_fitness = weight(trial)\n",
        "            if trial_fitness < fitness[i]:\n",
        "                new_population.append(trial)\n",
        "                fitness[i] = trial_fitness\n",
        "            else:\n",
        "                new_population.append(population[i])\n",
        "\n",
        "        population = new_population\n",
        "        fitness = [weight(sol) if is_valid_htrdf(graph, sol) else float('inf') for sol in population]\n",
        "\n",
        "    best_solution_index = fitness.index(min(fitness))\n",
        "    return population[best_solution_index], fitness[best_solution_index]"
      ],
      "metadata": {
        "id": "x3W-ZJIYE9uL"
      },
      "execution_count": 19,
      "outputs": []
    },
    {
      "cell_type": "markdown",
      "source": [
        "# **Function to Visualize the Graph**"
      ],
      "metadata": {
        "id": "CXTJvxC5HN1T"
      }
    },
    {
      "cell_type": "code",
      "source": [
        "\n",
        "# Define function to visualize the graph\n",
        "def visualize_graph(graph, labels, title):\n",
        "    \"\"\" Visualizes the graph with node colors based on labels. \"\"\"\n",
        "    G = nx.Graph(graph)\n",
        "    color_map = {0: 'red', 1: 'yellow', 2: 'green'}\n",
        "    node_colors = [color_map.get(labels.get(node, 0), 'red') for node in G.nodes()]\n",
        "\n",
        "    pos = nx.spring_layout(G)\n",
        "    nx.draw(G, pos, with_labels=True, node_color=node_colors, node_size=700, font_size=14, font_color='black', font_weight='bold')\n",
        "    plt.title(title)\n",
        "    plt.show()\n",
        "\n",
        "# Define the graph as an adjacency list\n",
        "graph = {\n",
        "    'A': ['B'],\n",
        "    'B': ['C'],\n",
        "    'C': ['D'],\n",
        "    'D': ['E'],\n",
        "    'E': ['F'],\n",
        "    'F': []\n",
        "}\n",
        "\n",
        "# Find and print the minimum hop total Roman dominating function using the DE algorithm\n",
        "best_labels, min_weight = de_algorithm(graph)\n",
        "print(\"Best labels:\", best_labels)\n",
        "print(\"Minimum weight:\", min_weight)\n",
        "\n",
        "# Verify if the best labels are valid\n",
        "print(\"Is best solution valid?\", is_valid_htrdf(graph, best_labels))\n",
        "\n",
        "# Visualize the initial graph\n",
        "visualize_graph(graph, {node: 0 for node in graph}, \"Initial Graph (All Nodes Labeled 0)\")\n",
        "\n",
        "# Visualize the graph with the best labels found\n",
        "visualize_graph(graph, best_labels, f\"Best Solution (Minimum Weight: {min_weight})\")\n"
      ],
      "metadata": {
        "colab": {
          "base_uri": "https://localhost:8080/",
          "height": 1000
        },
        "id": "Aef6Eq2KFITm",
        "outputId": "4452e4dd-4a56-4949-8a34-90fd7afa0c67"
      },
      "execution_count": 20,
      "outputs": [
        {
          "output_type": "stream",
          "name": "stdout",
          "text": [
            "Best labels: {'A': 0, 'B': 0, 'C': 2, 'D': 0, 'E': 0, 'F': 2}\n",
            "Minimum weight: 4\n",
            "Is best solution valid? True\n"
          ]
        },
        {
          "output_type": "display_data",
          "data": {
            "text/plain": [
              "<Figure size 640x480 with 1 Axes>"
            ],
            "image/png": "[encoded data removed]"
          },
          "metadata": {}
        },
        {
          "output_type": "display_data",
          "data": {
            "text/plain": [
              "<Figure size 640x480 with 1 Axes>"
            ],
            "image/png": "[encoded data removed]"
          },
          "metadata": {}
        }
      ]
    },
    {
      "cell_type": "code",
      "source": [
        "#                                    ******THANK YOU******"
      ],
      "metadata": {
        "id": "__pv7z8sGHM1"
      },
      "execution_count": 21,
      "outputs": []
    }
  ]
}